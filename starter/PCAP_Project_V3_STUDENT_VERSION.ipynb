{
  "nbformat": 4,
  "nbformat_minor": 0,
  "metadata": {
    "colab": {
      "provenance": []
    },
    "kernelspec": {
      "name": "python3",
      "display_name": "Python 3"
    },
    "language_info": {
      "name": "python"
    }
  },
  "cells": [
    {
      "cell_type": "markdown",
      "source": [
        "# 🐍 FounderFocus — PCAP Certification Project\n",
        "\n",
        "Welcome to **FounderFocus**, a Python-based CLI simulation for solo founders building AI startups.\n",
        "\n",
        "In this project, you’ll practice core skills from the **PCAP (Certified Associate in Python Programming)** exam while building tools to:\n",
        "\n",
        "- ✅ Analyze real-world startup data from Crunchbase\n",
        "- ✅ Simulate your own acquisitions and funding stats\n",
        "- ✅ Catch and debug data issues using exceptions\n",
        "- ✅ Score startup pitches with string logic\n",
        "- ✅ Organize your code using classes and OOP\n",
        "- ✅ Store results and export summaries to files\n",
        "\n",
        "By the end, you’ll have a command-line toolkit that mimics how real startup builders make technical decisions using Python.\n",
        "\n",
        "As you work through the sections, you'll notice `REPLACE` or `REPLACE_THIS` which you will put your own Python solutions in for as you build your own FounderFocus CLI.\n",
        "\n",
        "This notebook blends real-world coding with PCAP exam prep — let’s get building!\n"
      ],
      "metadata": {
        "id": "zTu082KGeFy5"
      }
    },
    {
      "cell_type": "markdown",
      "source": [
        "\n",
        "\n",
        "---\n",
        "\n"
      ],
      "metadata": {
        "id": "hRaGkJs4ohVT"
      }
    },
    {
      "cell_type": "markdown",
      "source": [
        "## 📦 Prerequisites: Setup Before You Start\n",
        "\n",
        "To run this notebook, we’ll load a dataset containing **100 startup investments**, including:\n",
        "\n",
        "- Company name  \n",
        "- Investor  \n",
        "- Sector  \n",
        "- Round type  \n",
        "- Amount  \n",
        "- Year  \n",
        "- Country\n",
        "\n",
        "This file is hosted on Google Drive, so there’s no need to install or configure any APIs."
      ],
      "metadata": {
        "id": "tVnoZ_VpeGQk"
      }
    },
    {
      "cell_type": "markdown",
      "source": [
        "### 📥 Load the FounderFocus Investments Dataset\n",
        "\n",
        "Let’s load our dataset using `pandas` directly from the URL.\n",
        "\n",
        "This file contains real startup acquisition data, including:\n",
        "- Who acquired who\n",
        "- How much they paid\n",
        "- When it happened\n",
        "\n",
        "Let’s load it into a Pandas DataFrame and take a quick look.\n"
      ],
      "metadata": {
        "id": "NqV_22X0gf3s"
      }
    },
    {
      "cell_type": "code",
      "source": [
        "# 📥 Load the dataset using pandas\n",
        "import pandas as pd\n",
        "\n",
        "url = \"https://drive.google.com/uc?export=download&id=1kNfh1MpRQB3JDcDqkFJEcgWgpd9Qyzv-\"\n",
        "df = pd.read_csv(url)\n",
        "df.head()"
      ],
      "metadata": {
        "colab": {
          "base_uri": "https://localhost:8080/",
          "height": 206
        },
        "id": "Ypd2Oemogo_d",
        "outputId": "8395eeeb-3cf5-4d69-ae7d-b00f7a0896f5"
      },
      "execution_count": null,
      "outputs": [
        {
          "output_type": "execute_result",
          "data": {
            "text/plain": [
              "            company_name  investor_name      sector round_type   amount  year  \\\n",
              "0               Meza Ltd    Chen-Murphy  E-commerce   Series A  2596182  2012   \n",
              "1         Simon-Calderon  Hughes-Medina      Edtech   Series C  2439167  2019   \n",
              "2           Guzman Group  Robertson Ltd  HealthTech        IPO  3158186  2011   \n",
              "3           Jones-Harper    Smith-Brown      Edtech        IPO   467392  2022   \n",
              "4  Miller, Rice and Rose   Brandt-Mason        SaaS       Seed  4276381  2021   \n",
              "\n",
              "                      country  \n",
              "0                 Netherlands  \n",
              "1                     Tokelau  \n",
              "2  Slovakia (Slovak Republic)  \n",
              "3                      Cyprus  \n",
              "4                       Nauru  "
            ],
            "text/html": [
              "\n",
              "  <div id=\"df-87764675-6cbe-445f-8958-9fee2a10c1f3\" class=\"colab-df-container\">\n",
              "    <div>\n",
              "<style scoped>\n",
              "    .dataframe tbody tr th:only-of-type {\n",
              "        vertical-align: middle;\n",
              "    }\n",
              "\n",
              "    .dataframe tbody tr th {\n",
              "        vertical-align: top;\n",
              "    }\n",
              "\n",
              "    .dataframe thead th {\n",
              "        text-align: right;\n",
              "    }\n",
              "</style>\n",
              "<table border=\"1\" class=\"dataframe\">\n",
              "  <thead>\n",
              "    <tr style=\"text-align: right;\">\n",
              "      <th></th>\n",
              "      <th>company_name</th>\n",
              "      <th>investor_name</th>\n",
              "      <th>sector</th>\n",
              "      <th>round_type</th>\n",
              "      <th>amount</th>\n",
              "      <th>year</th>\n",
              "      <th>country</th>\n",
              "    </tr>\n",
              "  </thead>\n",
              "  <tbody>\n",
              "    <tr>\n",
              "      <th>0</th>\n",
              "      <td>Meza Ltd</td>\n",
              "      <td>Chen-Murphy</td>\n",
              "      <td>E-commerce</td>\n",
              "      <td>Series A</td>\n",
              "      <td>2596182</td>\n",
              "      <td>2012</td>\n",
              "      <td>Netherlands</td>\n",
              "    </tr>\n",
              "    <tr>\n",
              "      <th>1</th>\n",
              "      <td>Simon-Calderon</td>\n",
              "      <td>Hughes-Medina</td>\n",
              "      <td>Edtech</td>\n",
              "      <td>Series C</td>\n",
              "      <td>2439167</td>\n",
              "      <td>2019</td>\n",
              "      <td>Tokelau</td>\n",
              "    </tr>\n",
              "    <tr>\n",
              "      <th>2</th>\n",
              "      <td>Guzman Group</td>\n",
              "      <td>Robertson Ltd</td>\n",
              "      <td>HealthTech</td>\n",
              "      <td>IPO</td>\n",
              "      <td>3158186</td>\n",
              "      <td>2011</td>\n",
              "      <td>Slovakia (Slovak Republic)</td>\n",
              "    </tr>\n",
              "    <tr>\n",
              "      <th>3</th>\n",
              "      <td>Jones-Harper</td>\n",
              "      <td>Smith-Brown</td>\n",
              "      <td>Edtech</td>\n",
              "      <td>IPO</td>\n",
              "      <td>467392</td>\n",
              "      <td>2022</td>\n",
              "      <td>Cyprus</td>\n",
              "    </tr>\n",
              "    <tr>\n",
              "      <th>4</th>\n",
              "      <td>Miller, Rice and Rose</td>\n",
              "      <td>Brandt-Mason</td>\n",
              "      <td>SaaS</td>\n",
              "      <td>Seed</td>\n",
              "      <td>4276381</td>\n",
              "      <td>2021</td>\n",
              "      <td>Nauru</td>\n",
              "    </tr>\n",
              "  </tbody>\n",
              "</table>\n",
              "</div>\n",
              "    <div class=\"colab-df-buttons\">\n",
              "\n",
              "  <div class=\"colab-df-container\">\n",
              "    <button class=\"colab-df-convert\" onclick=\"convertToInteractive('df-87764675-6cbe-445f-8958-9fee2a10c1f3')\"\n",
              "            title=\"Convert this dataframe to an interactive table.\"\n",
              "            style=\"display:none;\">\n",
              "\n",
              "  <svg xmlns=\"http://www.w3.org/2000/svg\" height=\"24px\" viewBox=\"0 -960 960 960\">\n",
              "    <path d=\"M120-120v-720h720v720H120Zm60-500h600v-160H180v160Zm220 220h160v-160H400v160Zm0 220h160v-160H400v160ZM180-400h160v-160H180v160Zm440 0h160v-160H620v160ZM180-180h160v-160H180v160Zm440 0h160v-160H620v160Z\"/>\n",
              "  </svg>\n",
              "    </button>\n",
              "\n",
              "  <style>\n",
              "    .colab-df-container {\n",
              "      display:flex;\n",
              "      gap: 12px;\n",
              "    }\n",
              "\n",
              "    .colab-df-convert {\n",
              "      background-color: #E8F0FE;\n",
              "      border: none;\n",
              "      border-radius: 50%;\n",
              "      cursor: pointer;\n",
              "      display: none;\n",
              "      fill: #1967D2;\n",
              "      height: 32px;\n",
              "      padding: 0 0 0 0;\n",
              "      width: 32px;\n",
              "    }\n",
              "\n",
              "    .colab-df-convert:hover {\n",
              "      background-color: #E2EBFA;\n",
              "      box-shadow: 0px 1px 2px rgba(60, 64, 67, 0.3), 0px 1px 3px 1px rgba(60, 64, 67, 0.15);\n",
              "      fill: #174EA6;\n",
              "    }\n",
              "\n",
              "    .colab-df-buttons div {\n",
              "      margin-bottom: 4px;\n",
              "    }\n",
              "\n",
              "    [theme=dark] .colab-df-convert {\n",
              "      background-color: #3B4455;\n",
              "      fill: #D2E3FC;\n",
              "    }\n",
              "\n",
              "    [theme=dark] .colab-df-convert:hover {\n",
              "      background-color: #434B5C;\n",
              "      box-shadow: 0px 1px 3px 1px rgba(0, 0, 0, 0.15);\n",
              "      filter: drop-shadow(0px 1px 2px rgba(0, 0, 0, 0.3));\n",
              "      fill: #FFFFFF;\n",
              "    }\n",
              "  </style>\n",
              "\n",
              "    <script>\n",
              "      const buttonEl =\n",
              "        document.querySelector('#df-87764675-6cbe-445f-8958-9fee2a10c1f3 button.colab-df-convert');\n",
              "      buttonEl.style.display =\n",
              "        google.colab.kernel.accessAllowed ? 'block' : 'none';\n",
              "\n",
              "      async function convertToInteractive(key) {\n",
              "        const element = document.querySelector('#df-87764675-6cbe-445f-8958-9fee2a10c1f3');\n",
              "        const dataTable =\n",
              "          await google.colab.kernel.invokeFunction('convertToInteractive',\n",
              "                                                    [key], {});\n",
              "        if (!dataTable) return;\n",
              "\n",
              "        const docLinkHtml = 'Like what you see? Visit the ' +\n",
              "          '<a target=\"_blank\" href=https://colab.research.google.com/notebooks/data_table.ipynb>data table notebook</a>'\n",
              "          + ' to learn more about interactive tables.';\n",
              "        element.innerHTML = '';\n",
              "        dataTable['output_type'] = 'display_data';\n",
              "        await google.colab.output.renderOutput(dataTable, element);\n",
              "        const docLink = document.createElement('div');\n",
              "        docLink.innerHTML = docLinkHtml;\n",
              "        element.appendChild(docLink);\n",
              "      }\n",
              "    </script>\n",
              "  </div>\n",
              "\n",
              "\n",
              "    <div id=\"df-a6b6897b-ddf5-4b9b-8f75-98c200464ced\">\n",
              "      <button class=\"colab-df-quickchart\" onclick=\"quickchart('df-a6b6897b-ddf5-4b9b-8f75-98c200464ced')\"\n",
              "                title=\"Suggest charts\"\n",
              "                style=\"display:none;\">\n",
              "\n",
              "<svg xmlns=\"http://www.w3.org/2000/svg\" height=\"24px\"viewBox=\"0 0 24 24\"\n",
              "     width=\"24px\">\n",
              "    <g>\n",
              "        <path d=\"M19 3H5c-1.1 0-2 .9-2 2v14c0 1.1.9 2 2 2h14c1.1 0 2-.9 2-2V5c0-1.1-.9-2-2-2zM9 17H7v-7h2v7zm4 0h-2V7h2v10zm4 0h-2v-4h2v4z\"/>\n",
              "    </g>\n",
              "</svg>\n",
              "      </button>\n",
              "\n",
              "<style>\n",
              "  .colab-df-quickchart {\n",
              "      --bg-color: #E8F0FE;\n",
              "      --fill-color: #1967D2;\n",
              "      --hover-bg-color: #E2EBFA;\n",
              "      --hover-fill-color: #174EA6;\n",
              "      --disabled-fill-color: #AAA;\n",
              "      --disabled-bg-color: #DDD;\n",
              "  }\n",
              "\n",
              "  [theme=dark] .colab-df-quickchart {\n",
              "      --bg-color: #3B4455;\n",
              "      --fill-color: #D2E3FC;\n",
              "      --hover-bg-color: #434B5C;\n",
              "      --hover-fill-color: #FFFFFF;\n",
              "      --disabled-bg-color: #3B4455;\n",
              "      --disabled-fill-color: #666;\n",
              "  }\n",
              "\n",
              "  .colab-df-quickchart {\n",
              "    background-color: var(--bg-color);\n",
              "    border: none;\n",
              "    border-radius: 50%;\n",
              "    cursor: pointer;\n",
              "    display: none;\n",
              "    fill: var(--fill-color);\n",
              "    height: 32px;\n",
              "    padding: 0;\n",
              "    width: 32px;\n",
              "  }\n",
              "\n",
              "  .colab-df-quickchart:hover {\n",
              "    background-color: var(--hover-bg-color);\n",
              "    box-shadow: 0 1px 2px rgba(60, 64, 67, 0.3), 0 1px 3px 1px rgba(60, 64, 67, 0.15);\n",
              "    fill: var(--button-hover-fill-color);\n",
              "  }\n",
              "\n",
              "  .colab-df-quickchart-complete:disabled,\n",
              "  .colab-df-quickchart-complete:disabled:hover {\n",
              "    background-color: var(--disabled-bg-color);\n",
              "    fill: var(--disabled-fill-color);\n",
              "    box-shadow: none;\n",
              "  }\n",
              "\n",
              "  .colab-df-spinner {\n",
              "    border: 2px solid var(--fill-color);\n",
              "    border-color: transparent;\n",
              "    border-bottom-color: var(--fill-color);\n",
              "    animation:\n",
              "      spin 1s steps(1) infinite;\n",
              "  }\n",
              "\n",
              "  @keyframes spin {\n",
              "    0% {\n",
              "      border-color: transparent;\n",
              "      border-bottom-color: var(--fill-color);\n",
              "      border-left-color: var(--fill-color);\n",
              "    }\n",
              "    20% {\n",
              "      border-color: transparent;\n",
              "      border-left-color: var(--fill-color);\n",
              "      border-top-color: var(--fill-color);\n",
              "    }\n",
              "    30% {\n",
              "      border-color: transparent;\n",
              "      border-left-color: var(--fill-color);\n",
              "      border-top-color: var(--fill-color);\n",
              "      border-right-color: var(--fill-color);\n",
              "    }\n",
              "    40% {\n",
              "      border-color: transparent;\n",
              "      border-right-color: var(--fill-color);\n",
              "      border-top-color: var(--fill-color);\n",
              "    }\n",
              "    60% {\n",
              "      border-color: transparent;\n",
              "      border-right-color: var(--fill-color);\n",
              "    }\n",
              "    80% {\n",
              "      border-color: transparent;\n",
              "      border-right-color: var(--fill-color);\n",
              "      border-bottom-color: var(--fill-color);\n",
              "    }\n",
              "    90% {\n",
              "      border-color: transparent;\n",
              "      border-bottom-color: var(--fill-color);\n",
              "    }\n",
              "  }\n",
              "</style>\n",
              "\n",
              "      <script>\n",
              "        async function quickchart(key) {\n",
              "          const quickchartButtonEl =\n",
              "            document.querySelector('#' + key + ' button');\n",
              "          quickchartButtonEl.disabled = true;  // To prevent multiple clicks.\n",
              "          quickchartButtonEl.classList.add('colab-df-spinner');\n",
              "          try {\n",
              "            const charts = await google.colab.kernel.invokeFunction(\n",
              "                'suggestCharts', [key], {});\n",
              "          } catch (error) {\n",
              "            console.error('Error during call to suggestCharts:', error);\n",
              "          }\n",
              "          quickchartButtonEl.classList.remove('colab-df-spinner');\n",
              "          quickchartButtonEl.classList.add('colab-df-quickchart-complete');\n",
              "        }\n",
              "        (() => {\n",
              "          let quickchartButtonEl =\n",
              "            document.querySelector('#df-a6b6897b-ddf5-4b9b-8f75-98c200464ced button');\n",
              "          quickchartButtonEl.style.display =\n",
              "            google.colab.kernel.accessAllowed ? 'block' : 'none';\n",
              "        })();\n",
              "      </script>\n",
              "    </div>\n",
              "\n",
              "    </div>\n",
              "  </div>\n"
            ],
            "application/vnd.google.colaboratory.intrinsic+json": {
              "type": "dataframe",
              "variable_name": "df",
              "summary": "{\n  \"name\": \"df\",\n  \"rows\": 100,\n  \"fields\": [\n    {\n      \"column\": \"company_name\",\n      \"properties\": {\n        \"dtype\": \"string\",\n        \"num_unique_values\": 99,\n        \"samples\": [\n          \"Hale Inc\",\n          \"Chen, Mitchell and Brown\",\n          \"Douglas PLC\"\n        ],\n        \"semantic_type\": \"\",\n        \"description\": \"\"\n      }\n    },\n    {\n      \"column\": \"investor_name\",\n      \"properties\": {\n        \"dtype\": \"string\",\n        \"num_unique_values\": 100,\n        \"samples\": [\n          \"Hartman, Williams and Lopez\",\n          \"Walker, Duran and Rhodes\",\n          \"Murphy LLC\"\n        ],\n        \"semantic_type\": \"\",\n        \"description\": \"\"\n      }\n    },\n    {\n      \"column\": \"sector\",\n      \"properties\": {\n        \"dtype\": \"category\",\n        \"num_unique_values\": 8,\n        \"samples\": [\n          \"Edtech\",\n          \"Fintech\",\n          \"E-commerce\"\n        ],\n        \"semantic_type\": \"\",\n        \"description\": \"\"\n      }\n    },\n    {\n      \"column\": \"round_type\",\n      \"properties\": {\n        \"dtype\": \"category\",\n        \"num_unique_values\": 5,\n        \"samples\": [\n          \"Series C\",\n          \"Series B\",\n          \"IPO\"\n        ],\n        \"semantic_type\": \"\",\n        \"description\": \"\"\n      }\n    },\n    {\n      \"column\": \"amount\",\n      \"properties\": {\n        \"dtype\": \"number\",\n        \"std\": 1434541,\n        \"min\": 118212,\n        \"max\": 4984037,\n        \"num_unique_values\": 100,\n        \"samples\": [\n          1882574,\n          336675,\n          2432008\n        ],\n        \"semantic_type\": \"\",\n        \"description\": \"\"\n      }\n    },\n    {\n      \"column\": \"year\",\n      \"properties\": {\n        \"dtype\": \"number\",\n        \"std\": 4,\n        \"min\": 2010,\n        \"max\": 2023,\n        \"num_unique_values\": 14,\n        \"samples\": [\n          2013,\n          2018,\n          2012\n        ],\n        \"semantic_type\": \"\",\n        \"description\": \"\"\n      }\n    },\n    {\n      \"column\": \"country\",\n      \"properties\": {\n        \"dtype\": \"string\",\n        \"num_unique_values\": 88,\n        \"samples\": [\n          \"Sudan\",\n          \"Netherlands\",\n          \"Netherlands Antilles\"\n        ],\n        \"semantic_type\": \"\",\n        \"description\": \"\"\n      }\n    }\n  ]\n}"
            }
          },
          "metadata": {},
          "execution_count": 1
        }
      ]
    },
    {
      "cell_type": "markdown",
      "source": [
        "### 🚀 What’s Next?\n",
        "\n",
        "Now that your investment dataset is loaded, you’ll use it to build out your **FounderFocus CLI toolkit**.\n",
        "\n",
        "In the next section, you’ll practice working with Python modules like `math`, `random`, and `platform` to:\n",
        "\n",
        "- Analyze investment trends\n",
        "- Simulate random startup ideas\n",
        "- Gather diagnostics from your environment\n",
        "\n",
        "Let’s get building!"
      ],
      "metadata": {
        "id": "Nm4CoTwalEy1"
      }
    },
    {
      "cell_type": "markdown",
      "source": [
        "\n",
        "\n",
        "---\n",
        "\n"
      ],
      "metadata": {
        "id": "VGhqlj6FokuF"
      }
    },
    {
      "cell_type": "markdown",
      "source": [
        "## 🔹 Section 1: Market Analyzer — CLI Foundations with Modules\n",
        "\n",
        "Let’s build a mini CLI tool that calculates average acquisition prices, picks random startup sectors, and checks your Python environment.\n",
        "\n",
        "These are core tasks any solo founder might want to automate — and they let us practice importing and using Python’s built-in modules.\n",
        "\n",
        "You’ll practice:\n",
        "- Importing and inspecting modules\n",
        "- Using `math`, `random`, `platform`, and `sys`\n",
        "- Calculating funding statistics using real data\n",
        "- Understanding how Python loads modules (`sys.path` and `dir()`)\n",
        "\n",
        "Let’s go step by step."
      ],
      "metadata": {
        "id": "W2LJaEPTeLSL"
      }
    },
    {
      "cell_type": "markdown",
      "source": [
        "### Exercise 1.1 — Initialize Your CLI Toolkit\n",
        "\n",
        "Let’s start by importing the core modules that will power our CLI. This mirrors the beginning of a CLI tool where you prepare your imports and confirm your Python environment."
      ],
      "metadata": {
        "id": "owxIP8uvjdX7"
      }
    },
    {
      "cell_type": "code",
      "source": [
        "import math\n",
        "import random\n",
        "import platform\n",
        "import sys\n",
        "\n",
        "# Confirm environment\n",
        "print(\"🔧 Python Path:\", <<REPLACE_THIS>>)\n",
        "print(\"⚙️ OS:\", <<REPLACE_THIS>>, \"| CPU:\", <<REPLACE_THIS>>)"
      ],
      "metadata": {
        "colab": {
          "base_uri": "https://localhost:8080/"
        },
        "id": "TbfkFTEjjcim",
        "outputId": "d5bffddb-c9d4-467c-952c-45d0a01e85d3"
      },
      "execution_count": null,
      "outputs": [
        {
          "output_type": "stream",
          "name": "stdout",
          "text": [
            "🔧 Python Path: /content\n",
            "⚙️ OS: Linux | CPU: x86_64\n"
          ]
        }
      ]
    },
    {
      "cell_type": "markdown",
      "source": [
        "### Exercise 1.2 — Explore Module Contents\n",
        "\n",
        "Use `dir()` to inspect what's inside the `math` module and learn how Python finds modules using `sys.path`.\n"
      ],
      "metadata": {
        "id": "UBghmlAvju12"
      }
    },
    {
      "cell_type": "code",
      "source": [
        "print(\"📦 What's inside math:\", <<REPLACE>>[10])\n",
        "print(\"🧭 Module search paths (first):\", <<REPLACE>>)"
      ],
      "metadata": {
        "colab": {
          "base_uri": "https://localhost:8080/"
        },
        "id": "DqhbBPpgjw9R",
        "outputId": "61843178-e85f-4324-a199-0f8dc6980101"
      },
      "execution_count": null,
      "outputs": [
        {
          "output_type": "stream",
          "name": "stdout",
          "text": [
            "📦 What's inside math: ['__doc__', '__loader__', '__name__', '__package__', '__spec__', 'acos', 'acosh', 'asin', 'asinh', 'atan']\n",
            "🧭 Module search paths (first): /content\n"
          ]
        }
      ]
    },
    {
      "cell_type": "markdown",
      "source": [
        "### Exercise 1.3 — Calculate Average Acquisition Price (Real Data)\n",
        "\n",
        "Founders often analyze average acquisition amounts in their space. Let’s use real Crunchbase data and Python’s `math.fsum()` to compute this."
      ],
      "metadata": {
        "id": "e9vPu6jsj2CW"
      }
    },
    {
      "cell_type": "code",
      "source": [
        "# Clean real acquisition prices\n",
        "amounts = df['amount'].dropna()\n",
        "clean_amounts = [float(a) for a in amounts if a > 0]\n",
        "\n",
        "def average_investment(amounts):\n",
        "    return <<REPLACE>>  # Use math.fsum and floor to return average\n",
        "\n",
        "print(\"💰 Avg. investment amount:\", average_investment(clean_amounts))"
      ],
      "metadata": {
        "colab": {
          "base_uri": "https://localhost:8080/"
        },
        "id": "LPSl_0aqj35n",
        "outputId": "66aad02a-b0fb-43e4-cb0e-86d872e7e01c"
      },
      "execution_count": null,
      "outputs": [
        {
          "output_type": "stream",
          "name": "stdout",
          "text": [
            "💰 Avg. investment amount: 2470773\n"
          ]
        }
      ]
    },
    {
      "cell_type": "markdown",
      "source": [
        "### Exercise 1.4 — Simulate Startup Sector Picks\n",
        "\n",
        "Use `random.choice()` and `random.sample()` to simulate which sectors you might build in.\n"
      ],
      "metadata": {
        "id": "rtshXz_Aj50g"
      }
    },
    {
      "cell_type": "code",
      "source": [
        "sectors = df['sector'].dropna().unique().tolist()\n",
        "\n",
        "# Use random.choice and random.sample\n",
        "print(\"🎯 Sector suggestion:\", <<REPLACE>>)\n",
        "print(\"🎲 Your top 3 picks:\", <<REPLACE>>)"
      ],
      "metadata": {
        "colab": {
          "base_uri": "https://localhost:8080/"
        },
        "id": "jmP_FZDLj7Oi",
        "outputId": "44920ce1-85db-4bc9-da40-e1854023d2df"
      },
      "execution_count": null,
      "outputs": [
        {
          "output_type": "stream",
          "name": "stdout",
          "text": [
            "🎯 Sector suggestion: E-commerce\n",
            "🎲 Your top 3 picks: ['Edtech', 'Fintech', 'Gaming', 'HealthTech', 'E-commerce', 'SaaS', 'AI', 'Biotech']\n"
          ]
        }
      ]
    },
    {
      "cell_type": "markdown",
      "source": [
        "### Exercise 1.5 — Run Environment Diagnostics\n",
        "\n",
        "Real CLI tools often include a `--diagnose` command. Let’s simulate it using the `platform` module."
      ],
      "metadata": {
        "id": "5B_IAMIfj-AZ"
      }
    },
    {
      "cell_type": "code",
      "source": [
        "print(\"🖥️ OS:\", <<REPLACE>>)\n",
        "print(\"🧠 CPU:\", <<REPLACE>>)\n",
        "print(\"🐍 Python version:\", <<REPLACE>>)"
      ],
      "metadata": {
        "colab": {
          "base_uri": "https://localhost:8080/"
        },
        "id": "R1UYtAXQj_os",
        "outputId": "e816a47e-a0e0-4bc6-efc6-aa297426d3b5"
      },
      "execution_count": null,
      "outputs": [
        {
          "output_type": "stream",
          "name": "stdout",
          "text": [
            "🖥️ OS: Linux\n",
            "🧠 CPU: x86_64\n",
            "🐍 Python version: ('3', '11', '13')\n"
          ]
        }
      ]
    },
    {
      "cell_type": "markdown",
      "source": [
        "### Exercise 1.6 — Average Funding CLI Tool\n",
        "\n",
        "Use the `math` module to calculate average funding amounts for hypothetical seed rounds.\n"
      ],
      "metadata": {
        "id": "eWpbsf1qkTwq"
      }
    },
    {
      "cell_type": "code",
      "source": [
        "sample_fundings = [100000, 250000, 500000, 750000]\n",
        "\n",
        "def compute_average_funding(fundings):\n",
        "    return <<REPLACE>>  # Use math.fsum and math.ceil\n",
        "\n",
        "average_funding = compute_average_funding(sample_fundings)\n",
        "\n",
        "print(\"📊 Avg. funding (rounded):\", average_funding)"
      ],
      "metadata": {
        "colab": {
          "base_uri": "https://localhost:8080/"
        },
        "id": "iII_Te9OkYuu",
        "outputId": "2525f27b-a082-40de-f1e2-417e450dd3fe"
      },
      "execution_count": null,
      "outputs": [
        {
          "output_type": "stream",
          "name": "stdout",
          "text": [
            "📊 Avg. funding (rounded): 400000\n"
          ]
        }
      ]
    },
    {
      "cell_type": "markdown",
      "source": [
        "### Exercise 1.7 — Use Aliased Imports for Packages\n",
        "\n",
        "Demonstrate `from ... import ... as ...` syntax, a very handy tool for Python development, to bring packages and scripts into your files.\n",
        "\n",
        "Let's say that we want to take the square root of the value we just calculated. How would we do that?\n"
      ],
      "metadata": {
        "id": "WIZEYA3nm7EL"
      }
    },
    {
      "cell_type": "code",
      "source": [
        "# Use an alias for sqrt function from math\n",
        "from math import <<REPLACE>>\n",
        "\n",
        "# Calculate the square root of the average function\n",
        "print(\"🧮 Square root of the average funding:\", <<REPLACE>>)"
      ],
      "metadata": {
        "colab": {
          "base_uri": "https://localhost:8080/"
        },
        "id": "LrEQb3nAnMtM",
        "outputId": "9621951f-78df-4d09-b9a4-bd60b9bc8acd"
      },
      "execution_count": null,
      "outputs": [
        {
          "output_type": "stream",
          "name": "stdout",
          "text": [
            "🧮 Square root of 169: 632.4555320336759\n"
          ]
        }
      ]
    },
    {
      "cell_type": "markdown",
      "source": [
        "> ⚠️ Note: You can do from math `import *` but it's discouraged. It clutters your namespace and makes it harder to trace where functions came from. Avoid it in CLI tools.\n",
        "\n"
      ],
      "metadata": {
        "id": "BgDmP-txoyQc"
      }
    },
    {
      "cell_type": "markdown",
      "source": [
        "### Exercise 1.8 — Simulate __name__ == \"__main__\" CLI Entry Point\n",
        "Python uses a special variable called `__name__` to decide if your file is being run directly or imported.\n",
        "\n",
        "This is key for building CLI tools that behave differently when called vs reused."
      ],
      "metadata": {
        "id": "roFFHL7fo-vW"
      }
    },
    {
      "cell_type": "code",
      "source": [
        "def cli_intro():\n",
        "    print(\"👋 Welcome to FounderFocus CLI\")\n",
        "\n",
        "if <<REPLACE>>:\n",
        "    <<REPLACE>>  # Call cli_intro()"
      ],
      "metadata": {
        "colab": {
          "base_uri": "https://localhost:8080/"
        },
        "id": "prNJCQgXpEcI",
        "outputId": "4bc6098d-19b8-45df-d88e-43a70af3adcb"
      },
      "execution_count": null,
      "outputs": [
        {
          "output_type": "stream",
          "name": "stdout",
          "text": [
            "👋 Welcome to FounderFocus CLI\n"
          ]
        }
      ]
    },
    {
      "cell_type": "markdown",
      "source": [
        "> ⚠️ Note: Try saving this block to a `.py` file and running it directly. You’ll see that `cli_intro()` runs only when the script is executed as the main program."
      ],
      "metadata": {
        "id": "Hogm56slpGye"
      }
    },
    {
      "cell_type": "markdown",
      "source": [
        "### 💡 Bonus Insight: What is `__pycache__`?\n",
        "Whenever you import a Python module, Python compiles it into bytecode and saves it in a `__pycache__` folder.\n",
        "\n",
        "This improves performance on future runs — and is why you often see a __pycache__ directory in your project folders. This is what is amazing about Python - so many of these efficiencies and optimizations already are set up for us, without needing to lift a finger or think much about what is happening behind the scenes."
      ],
      "metadata": {
        "id": "DNw8L_PQpOza"
      }
    },
    {
      "cell_type": "markdown",
      "source": [
        "### ✅ Section 1 Wrap-Up: CLI Foundations Complete\n",
        "\n",
        "You’ve now built the foundation of your Market Analyzer CLI by:\n",
        "- Importing and exploring built-in modules\n",
        "- Analyzing real acquisition data\n",
        "- Simulating startup scenarios\n",
        "- Understanding Python internals like `__name__`, `sys.path`, and `__pycache__`\n",
        "- Practicing clean import styles\n",
        "\n",
        "➡️ Next up: You’ll learn how to make your CLI safe and reliable with exception handling and error detection — critical for real-world tools."
      ],
      "metadata": {
        "id": "gb40SfO3kKFI"
      }
    },
    {
      "cell_type": "markdown",
      "source": [
        "---"
      ],
      "metadata": {
        "id": "AOKuKDjrwLgN"
      }
    },
    {
      "cell_type": "markdown",
      "source": [
        "## 🔹 Section 2: Fault Tolerance — Handling Exceptions in Your CLI\n",
        "\n",
        "Now that your CLI can process real startup data and simulate sectors, let’s make it **robust** by adding exception handling and debugging techniques.\n",
        "\n",
        "In the real world, founders deal with:\n",
        "- Broken data pipelines\n",
        "- Missing or corrupted funding amounts\n",
        "- APIs that return unexpected results\n",
        "\n",
        "Your CLI must be **resilient**, just like your startup.\n",
        "\n",
        "In this section, you’ll:\n",
        "- Catch built-in exceptions like `ValueError`, `ZeroDivisionError`, and `TypeError`\n",
        "- Use `try`, `except`, `else`, and `finally`\n",
        "- Raise your own exceptions\n",
        "- Debug with `assert` and custom error messages\n"
      ],
      "metadata": {
        "id": "rY4WNwFNuKmd"
      }
    },
    {
      "cell_type": "markdown",
      "source": [
        "### Exercise 2.1 — Basic `try`/`except` Handling\n",
        "\n",
        "Let’s simulate a user entering a funding amount. What if they enter something invalid?\n"
      ],
      "metadata": {
        "id": "llZ6Ep9nvEz5"
      }
    },
    {
      "cell_type": "code",
      "source": [
        "user_input = \"one million\"\n",
        "\n",
        "try:\n",
        "    funding = <<REPLACE>>  # convert input to float\n",
        "    print(\"✅ Funding received:\", <<REPLACE>>)\n",
        "except <<REPLACE>>:\n",
        "    print(\"🚫 Invalid funding amount. Please enter a numeric value.\")"
      ],
      "metadata": {
        "colab": {
          "base_uri": "https://localhost:8080/"
        },
        "id": "yBzBOcjmvGT-",
        "outputId": "6d61b713-64ee-458e-b82a-884c8baf1692"
      },
      "execution_count": null,
      "outputs": [
        {
          "output_type": "stream",
          "name": "stdout",
          "text": [
            "🚫 Invalid funding amount. Please enter a numeric value.\n"
          ]
        }
      ]
    },
    {
      "cell_type": "markdown",
      "source": [
        "### Exercise 2.2 — Using `else` and `finally`\n",
        "\n",
        "Add structure to your CLI logic by using `else` for success cases and `finally` to clean up or log.\n"
      ],
      "metadata": {
        "id": "Fg0k1oexvIrC"
      }
    },
    {
      "cell_type": "code",
      "source": [
        "test_input = \"250000\"\n",
        "\n",
        "try:\n",
        "    funding = <<REPLACE>>\n",
        "except ValueError:\n",
        "    print(\"❌ Error: Not a valid number.\")\n",
        "else:\n",
        "    print(\"📈 Parsed funding amount:\", <<REPLACE>>)\n",
        "finally:\n",
        "    print(\"🔁 Funding parsing attempt complete.\")"
      ],
      "metadata": {
        "colab": {
          "base_uri": "https://localhost:8080/"
        },
        "id": "nrEK7tvIvKcr",
        "outputId": "579fe883-1ad0-41af-e1d8-4b287cf3263c"
      },
      "execution_count": null,
      "outputs": [
        {
          "output_type": "stream",
          "name": "stdout",
          "text": [
            "💸 Parsed funding amount: 250000.0\n",
            "🔁 Funding parsing attempt complete.\n"
          ]
        }
      ]
    },
    {
      "cell_type": "markdown",
      "source": [
        "### Exercise 2.3 — Catch Multiple Exception Types\n",
        "\n",
        "Your CLI may call many APIs or deal with different errors. Catch multiple types cleanly.\n"
      ],
      "metadata": {
        "id": "mP6cMXZ4vPXf"
      }
    },
    {
      "cell_type": "code",
      "source": [
        "sample_data = [100, 0, \"N/A\", 500]\n",
        "\n",
        "for item in sample_data:\n",
        "    try:\n",
        "        result = <<REPLACE>>  # divide 100000 by float(item)\n",
        "        print(\"📈 Result:\", result)\n",
        "    except <<REPLACE>>:\n",
        "        print(\"🚫 Cannot divide by zero.\")\n",
        "    except <<REPLACE>>:\n",
        "        print(\"🚫 Invalid number format.\")"
      ],
      "metadata": {
        "colab": {
          "base_uri": "https://localhost:8080/"
        },
        "id": "n_zXXa8gvQxL",
        "outputId": "875c9929-850f-491a-f29e-4533351a8852"
      },
      "execution_count": null,
      "outputs": [
        {
          "output_type": "stream",
          "name": "stdout",
          "text": [
            "📈 Result: 1000.0\n",
            "🚫 Cannot divide by zero.\n",
            "🚫 Invalid number format.\n",
            "📈 Result: 200.0\n"
          ]
        }
      ]
    },
    {
      "cell_type": "markdown",
      "source": [
        "### Exercise 2.4 — Raise Your Own Exception\n",
        "\n",
        "Your CLI should stop execution if the user tries to analyze data with too few points.\n"
      ],
      "metadata": {
        "id": "pMgy9a6GvSzd"
      }
    },
    {
      "cell_type": "code",
      "source": [
        "def analyze_trend(fundings):\n",
        "    if len(fundings) < 3:\n",
        "        raise <<REPLACE>>(\"📉 Not enough data points to analyze trend!\")\n",
        "    return <<REPLACE>>\n",
        "\n",
        "try:\n",
        "    analyze_trend([250000])\n",
        "except ValueError as ve:\n",
        "    print(\"🛑\", ve)"
      ],
      "metadata": {
        "colab": {
          "base_uri": "https://localhost:8080/"
        },
        "id": "WaHgMm4ZvUHR",
        "outputId": "c6ef1064-50dc-4504-a924-37fee9153c3a"
      },
      "execution_count": null,
      "outputs": [
        {
          "output_type": "stream",
          "name": "stdout",
          "text": [
            "🛑 📉 Not enough data points to analyze trend!\n"
          ]
        }
      ]
    },
    {
      "cell_type": "markdown",
      "source": [
        "### Exercise 2.5 — Use `assert` to Enforce Expectations\n",
        "\n",
        "You can use `assert` to stop the CLI if an assumption is violated during development or testing.\n"
      ],
      "metadata": {
        "id": "kfoS_T9lvW0q"
      }
    },
    {
      "cell_type": "code",
      "source": [
        "data = [100000, 250000, 500000]\n",
        "\n",
        "assert <<REPLACE>>, \"🛑 Error: Funding list is empty.\"\n",
        "\n",
        "print(\"✅ Data validated.\")"
      ],
      "metadata": {
        "colab": {
          "base_uri": "https://localhost:8080/"
        },
        "id": "sOpCMFwRvX-x",
        "outputId": "aa615aa8-9987-41dd-c383-5812fc125822"
      },
      "execution_count": null,
      "outputs": [
        {
          "output_type": "stream",
          "name": "stdout",
          "text": [
            "✅ Data validated.\n"
          ]
        }
      ]
    },
    {
      "cell_type": "markdown",
      "source": [
        "### Exercise 2.6 — Build a CLI-Friendly Error Reporter\n",
        "\n",
        "Let’s simulate a CLI function that fails gracefully and explains the issue.\n"
      ],
      "metadata": {
        "id": "xXMoyUOIvZSJ"
      }
    },
    {
      "cell_type": "code",
      "source": [
        "# Make sure you have clean funding data\n",
        "clean_amounts = df['amount'].dropna().tolist()\n",
        "\n",
        "def get_funding_amount(index):\n",
        "    try:\n",
        "        return <<REPLACE>>\n",
        "    except IndexError:\n",
        "        return \"❌ Invalid index — no investment at that position.\"\n",
        "    except Exception as e:\n",
        "        return f\"⚠️ Unexpected error: {<<REPLACE>>}\"\n",
        "\n",
        "print(get_funding_amount(5))        # Valid\n",
        "print(get_funding_amount(50000))    # Likely invalid\n"
      ],
      "metadata": {
        "colab": {
          "base_uri": "https://localhost:8080/"
        },
        "id": "G2Qx2Kcxvaem",
        "outputId": "97f5689d-1490-4a6b-e6c6-01c9c4bd4284"
      },
      "execution_count": null,
      "outputs": [
        {
          "output_type": "stream",
          "name": "stdout",
          "text": [
            "4763850\n",
            "❌ Invalid index — no investment at that position.\n"
          ]
        }
      ]
    },
    {
      "cell_type": "markdown",
      "source": [
        "### ✅ Section 2 Wrap-Up: Fault-Tolerant CLI Complete\n",
        "\n",
        "By now you’ve:\n",
        "- Handled invalid inputs and runtime errors\n",
        "- Used structured exception handling (`try/except/else/finally`)\n",
        "- Written user-friendly error messages\n",
        "- Built CLI methods that fail gracefully\n",
        "\n",
        "Next up: You’ll learn how to make your CLI *smart* — using **strings and conditionals** to filter startup names, score pitches, and create branching logic."
      ],
      "metadata": {
        "id": "Pt8h6qrtvdRp"
      }
    },
    {
      "cell_type": "markdown",
      "source": [
        "----"
      ],
      "metadata": {
        "id": "FvSiCVVlwIpc"
      }
    },
    {
      "cell_type": "markdown",
      "source": [
        "## 🔹 Section 3: Smart CLI Decisions — Strings & Conditionals\n",
        "\n",
        "Now that your CLI is resilient, it’s time to make it **smart**.\n",
        "\n",
        "In this section, we’ll simulate a founder’s judgment process:\n",
        "- Analyzing startup names\n",
        "- Filtering for AI-related acquisitions\n",
        "- Scoring companies by buzzword usage\n",
        "- Making decisions with nested `if` statements\n",
        "\n",
        "You’ll practice:\n",
        "- String slicing and methods\n",
        "- Logical comparisons and control flow\n",
        "- Branching with `if`, `elif`, `else`\n"
      ],
      "metadata": {
        "id": "AKqNDENvvoEA"
      }
    },
    {
      "cell_type": "markdown",
      "source": [
        "### Exercise 3.1 — Analyze a Startup Name\n",
        "\n",
        "Let’s analyze a startup’s name to check if it sounds “AI enough.”\n"
      ],
      "metadata": {
        "id": "tPEhRglQvq4x"
      }
    },
    {
      "cell_type": "code",
      "source": [
        "startup_name = \"NeuroVision AI\"\n",
        "\n",
        "if <<REPLACE>> in <<REPLACE>>:\n",
        "    print(\"🤖 Name includes 'AI' — sounds futuristic!\")\n",
        "else:\n",
        "    print(\"🧪 Consider rebranding for tech appeal.\")\n"
      ],
      "metadata": {
        "colab": {
          "base_uri": "https://localhost:8080/"
        },
        "id": "_eCEAM4AvqTA",
        "outputId": "9803be18-cbff-4528-888e-12bbe44a2757"
      },
      "execution_count": null,
      "outputs": [
        {
          "output_type": "stream",
          "name": "stdout",
          "text": [
            "🤖 Name includes 'AI' — sounds futuristic!\n"
          ]
        }
      ]
    },
    {
      "cell_type": "markdown",
      "source": [
        "### Exercise 3.2 — Create a Buzzword Score Function\n",
        "\n",
        "Let’s score startup descriptions for trendy words using string methods and logical operators.\n"
      ],
      "metadata": {
        "id": "NPI_LTaqvuic"
      }
    },
    {
      "cell_type": "code",
      "source": [
        "def score_buzzwords(description):\n",
        "    score = 0\n",
        "    desc = <<REPLACE>>  # convert description to lowercase\n",
        "\n",
        "    if \"ai\" in desc: score += 1\n",
        "    if \"blockchain\" in desc: score += 1\n",
        "    if \"saas\" in desc: score += 1\n",
        "    if \"ml\" in desc or \"machine learning\" in desc: score += 1\n",
        "\n",
        "    return score\n",
        "\n",
        "# Test it\n",
        "print(\"🚀 Buzz Score:\", score_buzzwords(<<REPLACE>>))\n"
      ],
      "metadata": {
        "colab": {
          "base_uri": "https://localhost:8080/"
        },
        "id": "PZ_M1GrBvviW",
        "outputId": "a4d7d925-9f40-4ee3-a96a-682ba9d11d16"
      },
      "execution_count": null,
      "outputs": [
        {
          "output_type": "stream",
          "name": "stdout",
          "text": [
            "🚀 Buzz Score: 3\n"
          ]
        }
      ]
    },
    {
      "cell_type": "markdown",
      "source": [
        "### Exercise 3.3 — Use String Slicing\n",
        "\n",
        "Grab the first 3 characters and last 2 characters of a startup name — useful for abbreviation tools.\n"
      ],
      "metadata": {
        "id": "abhDhee9vyAO"
      }
    },
    {
      "cell_type": "code",
      "source": [
        "company = \"MindSpark AI\"\n",
        "\n",
        "first_three = <<REPLACE>>\n",
        "last_two = <<REPLACE>>\n",
        "\n",
        "print(\"🔤 Abbreviation:\", <<REPLACE>> + <<REPLACE>>)\n"
      ],
      "metadata": {
        "colab": {
          "base_uri": "https://localhost:8080/"
        },
        "id": "DncvOVvvvzPd",
        "outputId": "70a09de7-67d0-4ac7-b3c2-61994a94a8b8"
      },
      "execution_count": null,
      "outputs": [
        {
          "output_type": "stream",
          "name": "stdout",
          "text": [
            "🔤 Abbreviation: MINAI\n"
          ]
        }
      ]
    },
    {
      "cell_type": "markdown",
      "source": [
        "### Exercise 3.4 — Conditional Logic Based on Funding\n",
        "\n",
        "Let’s use `if-elif-else` to categorize startup stages based on seed funding.\n"
      ],
      "metadata": {
        "id": "xaaQBLnhv0eT"
      }
    },
    {
      "cell_type": "code",
      "source": [
        "funding = 500_000\n",
        "\n",
        "if funding < <<REPLACE>>:\n",
        "    print(\"🟡 Pre-seed stage\")\n",
        "elif funding < <<REPLACE>>:\n",
        "    print(\"🟢 Seed stage\")\n",
        "else:\n",
        "    print(\"🔵 Series A or beyond\")\n"
      ],
      "metadata": {
        "colab": {
          "base_uri": "https://localhost:8080/"
        },
        "id": "cTufhzeKv1nY",
        "outputId": "289f9272-994c-4985-b0df-ef39b0239566"
      },
      "execution_count": null,
      "outputs": [
        {
          "output_type": "stream",
          "name": "stdout",
          "text": [
            "🟢 Seed stage\n"
          ]
        }
      ]
    },
    {
      "cell_type": "markdown",
      "source": [
        "### Exercise 3.5 — Simulate a CLI Decision Tree\n",
        "\n",
        "Simulate a command-line tool that decides if you should pursue an acquisition based on buzz score and funding.\n"
      ],
      "metadata": {
        "id": "YvJefVfkv3Sk"
      }
    },
    {
      "cell_type": "code",
      "source": [
        "desc = \"We use AI and blockchain to revolutionize SaaS\"\n",
        "buzz = score_buzzwords(desc)\n",
        "funding = 750_000\n",
        "\n",
        "if <<REPLACE>>:\n",
        "    print(\"✅ Acquire this startup!\")\n",
        "elif <<REPLACE>>:\n",
        "    print(\"🤔 Consider further due diligence.\")\n",
        "else:\n",
        "    print(\"❌ Not a strategic fit.\")\n"
      ],
      "metadata": {
        "colab": {
          "base_uri": "https://localhost:8080/"
        },
        "id": "Y8fVghRYv4fn",
        "outputId": "b9c013bc-8941-4c4a-b063-b2f1998d6731"
      },
      "execution_count": null,
      "outputs": [
        {
          "output_type": "stream",
          "name": "stdout",
          "text": [
            "✅ Acquire this startup!\n"
          ]
        }
      ]
    },
    {
      "cell_type": "markdown",
      "source": [
        "### Exercise 3.6 — Filter AI Acquisitions from Dataset\n",
        "\n",
        "Let’s find companies in the Crunchbase dataset with “AI” in their name.\n"
      ],
      "metadata": {
        "id": "Ut5_sCqCv6PX"
      }
    },
    {
      "cell_type": "code",
      "source": [
        "ai_companies = df[df['company_name'].str.contains(<<REPLACE>>, case=False, na=False)]\n",
        "\n",
        "print(\"🧠 Total AI-related companies:\", len(ai_companies))\n",
        "ai_companies.head()\n"
      ],
      "metadata": {
        "colab": {
          "base_uri": "https://localhost:8080/",
          "height": 129
        },
        "id": "lT2CpBQFv7Q8",
        "outputId": "6f5f52ba-a027-4808-b122-132cf974382f"
      },
      "execution_count": null,
      "outputs": [
        {
          "output_type": "stream",
          "name": "stdout",
          "text": [
            "🧠 Total AI-related companies: 2\n"
          ]
        },
        {
          "output_type": "execute_result",
          "data": {
            "text/plain": [
              "               company_name  investor_name      sector round_type   amount  \\\n",
              "33             Bailey-Welch    Page-Martin  E-commerce        IPO  3318884   \n",
              "42  Harris, Vaughn and Cain  Barton-Taylor          AI   Series B  4391959   \n",
              "\n",
              "    year                   country  \n",
              "33  2021  Turks and Caicos Islands  \n",
              "42  2022                Mauritania  "
            ],
            "text/html": [
              "\n",
              "  <div id=\"df-75b3fe7b-6a45-4eab-9516-a954cef173da\" class=\"colab-df-container\">\n",
              "    <div>\n",
              "<style scoped>\n",
              "    .dataframe tbody tr th:only-of-type {\n",
              "        vertical-align: middle;\n",
              "    }\n",
              "\n",
              "    .dataframe tbody tr th {\n",
              "        vertical-align: top;\n",
              "    }\n",
              "\n",
              "    .dataframe thead th {\n",
              "        text-align: right;\n",
              "    }\n",
              "</style>\n",
              "<table border=\"1\" class=\"dataframe\">\n",
              "  <thead>\n",
              "    <tr style=\"text-align: right;\">\n",
              "      <th></th>\n",
              "      <th>company_name</th>\n",
              "      <th>investor_name</th>\n",
              "      <th>sector</th>\n",
              "      <th>round_type</th>\n",
              "      <th>amount</th>\n",
              "      <th>year</th>\n",
              "      <th>country</th>\n",
              "    </tr>\n",
              "  </thead>\n",
              "  <tbody>\n",
              "    <tr>\n",
              "      <th>33</th>\n",
              "      <td>Bailey-Welch</td>\n",
              "      <td>Page-Martin</td>\n",
              "      <td>E-commerce</td>\n",
              "      <td>IPO</td>\n",
              "      <td>3318884</td>\n",
              "      <td>2021</td>\n",
              "      <td>Turks and Caicos Islands</td>\n",
              "    </tr>\n",
              "    <tr>\n",
              "      <th>42</th>\n",
              "      <td>Harris, Vaughn and Cain</td>\n",
              "      <td>Barton-Taylor</td>\n",
              "      <td>AI</td>\n",
              "      <td>Series B</td>\n",
              "      <td>4391959</td>\n",
              "      <td>2022</td>\n",
              "      <td>Mauritania</td>\n",
              "    </tr>\n",
              "  </tbody>\n",
              "</table>\n",
              "</div>\n",
              "    <div class=\"colab-df-buttons\">\n",
              "\n",
              "  <div class=\"colab-df-container\">\n",
              "    <button class=\"colab-df-convert\" onclick=\"convertToInteractive('df-75b3fe7b-6a45-4eab-9516-a954cef173da')\"\n",
              "            title=\"Convert this dataframe to an interactive table.\"\n",
              "            style=\"display:none;\">\n",
              "\n",
              "  <svg xmlns=\"http://www.w3.org/2000/svg\" height=\"24px\" viewBox=\"0 -960 960 960\">\n",
              "    <path d=\"M120-120v-720h720v720H120Zm60-500h600v-160H180v160Zm220 220h160v-160H400v160Zm0 220h160v-160H400v160ZM180-400h160v-160H180v160Zm440 0h160v-160H620v160ZM180-180h160v-160H180v160Zm440 0h160v-160H620v160Z\"/>\n",
              "  </svg>\n",
              "    </button>\n",
              "\n",
              "  <style>\n",
              "    .colab-df-container {\n",
              "      display:flex;\n",
              "      gap: 12px;\n",
              "    }\n",
              "\n",
              "    .colab-df-convert {\n",
              "      background-color: #E8F0FE;\n",
              "      border: none;\n",
              "      border-radius: 50%;\n",
              "      cursor: pointer;\n",
              "      display: none;\n",
              "      fill: #1967D2;\n",
              "      height: 32px;\n",
              "      padding: 0 0 0 0;\n",
              "      width: 32px;\n",
              "    }\n",
              "\n",
              "    .colab-df-convert:hover {\n",
              "      background-color: #E2EBFA;\n",
              "      box-shadow: 0px 1px 2px rgba(60, 64, 67, 0.3), 0px 1px 3px 1px rgba(60, 64, 67, 0.15);\n",
              "      fill: #174EA6;\n",
              "    }\n",
              "\n",
              "    .colab-df-buttons div {\n",
              "      margin-bottom: 4px;\n",
              "    }\n",
              "\n",
              "    [theme=dark] .colab-df-convert {\n",
              "      background-color: #3B4455;\n",
              "      fill: #D2E3FC;\n",
              "    }\n",
              "\n",
              "    [theme=dark] .colab-df-convert:hover {\n",
              "      background-color: #434B5C;\n",
              "      box-shadow: 0px 1px 3px 1px rgba(0, 0, 0, 0.15);\n",
              "      filter: drop-shadow(0px 1px 2px rgba(0, 0, 0, 0.3));\n",
              "      fill: #FFFFFF;\n",
              "    }\n",
              "  </style>\n",
              "\n",
              "    <script>\n",
              "      const buttonEl =\n",
              "        document.querySelector('#df-75b3fe7b-6a45-4eab-9516-a954cef173da button.colab-df-convert');\n",
              "      buttonEl.style.display =\n",
              "        google.colab.kernel.accessAllowed ? 'block' : 'none';\n",
              "\n",
              "      async function convertToInteractive(key) {\n",
              "        const element = document.querySelector('#df-75b3fe7b-6a45-4eab-9516-a954cef173da');\n",
              "        const dataTable =\n",
              "          await google.colab.kernel.invokeFunction('convertToInteractive',\n",
              "                                                    [key], {});\n",
              "        if (!dataTable) return;\n",
              "\n",
              "        const docLinkHtml = 'Like what you see? Visit the ' +\n",
              "          '<a target=\"_blank\" href=https://colab.research.google.com/notebooks/data_table.ipynb>data table notebook</a>'\n",
              "          + ' to learn more about interactive tables.';\n",
              "        element.innerHTML = '';\n",
              "        dataTable['output_type'] = 'display_data';\n",
              "        await google.colab.output.renderOutput(dataTable, element);\n",
              "        const docLink = document.createElement('div');\n",
              "        docLink.innerHTML = docLinkHtml;\n",
              "        element.appendChild(docLink);\n",
              "      }\n",
              "    </script>\n",
              "  </div>\n",
              "\n",
              "\n",
              "    <div id=\"df-9ca1b883-3c29-4de5-9910-3f7b50598324\">\n",
              "      <button class=\"colab-df-quickchart\" onclick=\"quickchart('df-9ca1b883-3c29-4de5-9910-3f7b50598324')\"\n",
              "                title=\"Suggest charts\"\n",
              "                style=\"display:none;\">\n",
              "\n",
              "<svg xmlns=\"http://www.w3.org/2000/svg\" height=\"24px\"viewBox=\"0 0 24 24\"\n",
              "     width=\"24px\">\n",
              "    <g>\n",
              "        <path d=\"M19 3H5c-1.1 0-2 .9-2 2v14c0 1.1.9 2 2 2h14c1.1 0 2-.9 2-2V5c0-1.1-.9-2-2-2zM9 17H7v-7h2v7zm4 0h-2V7h2v10zm4 0h-2v-4h2v4z\"/>\n",
              "    </g>\n",
              "</svg>\n",
              "      </button>\n",
              "\n",
              "<style>\n",
              "  .colab-df-quickchart {\n",
              "      --bg-color: #E8F0FE;\n",
              "      --fill-color: #1967D2;\n",
              "      --hover-bg-color: #E2EBFA;\n",
              "      --hover-fill-color: #174EA6;\n",
              "      --disabled-fill-color: #AAA;\n",
              "      --disabled-bg-color: #DDD;\n",
              "  }\n",
              "\n",
              "  [theme=dark] .colab-df-quickchart {\n",
              "      --bg-color: #3B4455;\n",
              "      --fill-color: #D2E3FC;\n",
              "      --hover-bg-color: #434B5C;\n",
              "      --hover-fill-color: #FFFFFF;\n",
              "      --disabled-bg-color: #3B4455;\n",
              "      --disabled-fill-color: #666;\n",
              "  }\n",
              "\n",
              "  .colab-df-quickchart {\n",
              "    background-color: var(--bg-color);\n",
              "    border: none;\n",
              "    border-radius: 50%;\n",
              "    cursor: pointer;\n",
              "    display: none;\n",
              "    fill: var(--fill-color);\n",
              "    height: 32px;\n",
              "    padding: 0;\n",
              "    width: 32px;\n",
              "  }\n",
              "\n",
              "  .colab-df-quickchart:hover {\n",
              "    background-color: var(--hover-bg-color);\n",
              "    box-shadow: 0 1px 2px rgba(60, 64, 67, 0.3), 0 1px 3px 1px rgba(60, 64, 67, 0.15);\n",
              "    fill: var(--button-hover-fill-color);\n",
              "  }\n",
              "\n",
              "  .colab-df-quickchart-complete:disabled,\n",
              "  .colab-df-quickchart-complete:disabled:hover {\n",
              "    background-color: var(--disabled-bg-color);\n",
              "    fill: var(--disabled-fill-color);\n",
              "    box-shadow: none;\n",
              "  }\n",
              "\n",
              "  .colab-df-spinner {\n",
              "    border: 2px solid var(--fill-color);\n",
              "    border-color: transparent;\n",
              "    border-bottom-color: var(--fill-color);\n",
              "    animation:\n",
              "      spin 1s steps(1) infinite;\n",
              "  }\n",
              "\n",
              "  @keyframes spin {\n",
              "    0% {\n",
              "      border-color: transparent;\n",
              "      border-bottom-color: var(--fill-color);\n",
              "      border-left-color: var(--fill-color);\n",
              "    }\n",
              "    20% {\n",
              "      border-color: transparent;\n",
              "      border-left-color: var(--fill-color);\n",
              "      border-top-color: var(--fill-color);\n",
              "    }\n",
              "    30% {\n",
              "      border-color: transparent;\n",
              "      border-left-color: var(--fill-color);\n",
              "      border-top-color: var(--fill-color);\n",
              "      border-right-color: var(--fill-color);\n",
              "    }\n",
              "    40% {\n",
              "      border-color: transparent;\n",
              "      border-right-color: var(--fill-color);\n",
              "      border-top-color: var(--fill-color);\n",
              "    }\n",
              "    60% {\n",
              "      border-color: transparent;\n",
              "      border-right-color: var(--fill-color);\n",
              "    }\n",
              "    80% {\n",
              "      border-color: transparent;\n",
              "      border-right-color: var(--fill-color);\n",
              "      border-bottom-color: var(--fill-color);\n",
              "    }\n",
              "    90% {\n",
              "      border-color: transparent;\n",
              "      border-bottom-color: var(--fill-color);\n",
              "    }\n",
              "  }\n",
              "</style>\n",
              "\n",
              "      <script>\n",
              "        async function quickchart(key) {\n",
              "          const quickchartButtonEl =\n",
              "            document.querySelector('#' + key + ' button');\n",
              "          quickchartButtonEl.disabled = true;  // To prevent multiple clicks.\n",
              "          quickchartButtonEl.classList.add('colab-df-spinner');\n",
              "          try {\n",
              "            const charts = await google.colab.kernel.invokeFunction(\n",
              "                'suggestCharts', [key], {});\n",
              "          } catch (error) {\n",
              "            console.error('Error during call to suggestCharts:', error);\n",
              "          }\n",
              "          quickchartButtonEl.classList.remove('colab-df-spinner');\n",
              "          quickchartButtonEl.classList.add('colab-df-quickchart-complete');\n",
              "        }\n",
              "        (() => {\n",
              "          let quickchartButtonEl =\n",
              "            document.querySelector('#df-9ca1b883-3c29-4de5-9910-3f7b50598324 button');\n",
              "          quickchartButtonEl.style.display =\n",
              "            google.colab.kernel.accessAllowed ? 'block' : 'none';\n",
              "        })();\n",
              "      </script>\n",
              "    </div>\n",
              "\n",
              "    </div>\n",
              "  </div>\n"
            ],
            "application/vnd.google.colaboratory.intrinsic+json": {
              "type": "dataframe",
              "variable_name": "ai_companies",
              "summary": "{\n  \"name\": \"ai_companies\",\n  \"rows\": 2,\n  \"fields\": [\n    {\n      \"column\": \"company_name\",\n      \"properties\": {\n        \"dtype\": \"string\",\n        \"num_unique_values\": 2,\n        \"samples\": [\n          \"Harris, Vaughn and Cain\",\n          \"Bailey-Welch\"\n        ],\n        \"semantic_type\": \"\",\n        \"description\": \"\"\n      }\n    },\n    {\n      \"column\": \"investor_name\",\n      \"properties\": {\n        \"dtype\": \"string\",\n        \"num_unique_values\": 2,\n        \"samples\": [\n          \"Barton-Taylor\",\n          \"Page-Martin\"\n        ],\n        \"semantic_type\": \"\",\n        \"description\": \"\"\n      }\n    },\n    {\n      \"column\": \"sector\",\n      \"properties\": {\n        \"dtype\": \"string\",\n        \"num_unique_values\": 2,\n        \"samples\": [\n          \"AI\",\n          \"E-commerce\"\n        ],\n        \"semantic_type\": \"\",\n        \"description\": \"\"\n      }\n    },\n    {\n      \"column\": \"round_type\",\n      \"properties\": {\n        \"dtype\": \"string\",\n        \"num_unique_values\": 2,\n        \"samples\": [\n          \"Series B\",\n          \"IPO\"\n        ],\n        \"semantic_type\": \"\",\n        \"description\": \"\"\n      }\n    },\n    {\n      \"column\": \"amount\",\n      \"properties\": {\n        \"dtype\": \"number\",\n        \"std\": 758778,\n        \"min\": 3318884,\n        \"max\": 4391959,\n        \"num_unique_values\": 2,\n        \"samples\": [\n          4391959,\n          3318884\n        ],\n        \"semantic_type\": \"\",\n        \"description\": \"\"\n      }\n    },\n    {\n      \"column\": \"year\",\n      \"properties\": {\n        \"dtype\": \"number\",\n        \"std\": 0,\n        \"min\": 2021,\n        \"max\": 2022,\n        \"num_unique_values\": 2,\n        \"samples\": [\n          2022,\n          2021\n        ],\n        \"semantic_type\": \"\",\n        \"description\": \"\"\n      }\n    },\n    {\n      \"column\": \"country\",\n      \"properties\": {\n        \"dtype\": \"string\",\n        \"num_unique_values\": 2,\n        \"samples\": [\n          \"Mauritania\",\n          \"Turks and Caicos Islands\"\n        ],\n        \"semantic_type\": \"\",\n        \"description\": \"\"\n      }\n    }\n  ]\n}"
            }
          },
          "metadata": {},
          "execution_count": 28
        }
      ]
    },
    {
      "cell_type": "markdown",
      "source": [
        "### ✅ Section 3 Wrap-Up: Your CLI Now Thinks!\n",
        "\n",
        "You’ve now added logic to your CLI that mimics real startup decisions:\n",
        "- Detected buzzwords in pitches\n",
        "- Simulated acquisition scoring\n",
        "- Categorized funding stages\n",
        "- Filtered real data based on smart string logic\n",
        "\n",
        "Up next: Object-Oriented Programming (OOP) — You’ll refactor your CLI into a powerful, modular class using Python’s `class`, `self`, and `method` syntax."
      ],
      "metadata": {
        "id": "T7b7Lmt2wTzf"
      }
    },
    {
      "cell_type": "markdown",
      "source": [
        "---"
      ],
      "metadata": {
        "id": "CQr5aqn3wvoV"
      }
    },
    {
      "cell_type": "markdown",
      "source": [
        "## 🔹 Section 4: FounderFocus CLI — Building with Classes and Objects\n",
        "\n",
        "Your CLI is smart — now let’s make it **scalable**.\n",
        "\n",
        "In this section, you’ll use **object-oriented programming (OOP)** to refactor your toolkit into a modular CLI class system.\n",
        "\n",
        "You’ll practice:\n",
        "- Defining custom classes\n",
        "- Creating constructor methods (`__init__`)\n",
        "- Using `self` to access attributes\n",
        "- Calling methods on objects\n",
        "- Modeling real-world startup logic in Python\n",
        "- Encapsulate funding logic and decision tools inside your class\n",
        "\n",
        "This mirrors real-world tools like CRMs, analytics dashboards, and data engines."
      ],
      "metadata": {
        "id": "8NUIXEtmwxBR"
      }
    },
    {
      "cell_type": "markdown",
      "source": [
        "### Exercise 4.1 — Define Your CLI Blueprint\n",
        "\n",
        "Let’s build the foundation of our CLI as a class."
      ],
      "metadata": {
        "id": "38P_bKVmwzXa"
      }
    },
    {
      "cell_type": "code",
      "source": [
        "class FounderFocus:\n",
        "    def __init__(self, name):\n",
        "        self.name = name\n",
        "        self.sector = <<REPLACE>>\n",
        "        self.funding = <<REPLACE>>\n",
        "\n",
        "    def set_sector(self, sector):\n",
        "        self.sector = <<REPLACE>>\n",
        "\n",
        "    def set_funding(self, amount):\n",
        "        self.funding = <<REPLACE>>"
      ],
      "metadata": {
        "id": "rWP4hM3fw06h"
      },
      "execution_count": null,
      "outputs": []
    },
    {
      "cell_type": "code",
      "source": [
        "print(FounderFocus.__dict__)"
      ],
      "metadata": {
        "colab": {
          "base_uri": "https://localhost:8080/"
        },
        "id": "YbZfue93BBTg",
        "outputId": "dba149f3-783b-4855-8f78-5da2aeebeb75"
      },
      "execution_count": null,
      "outputs": [
        {
          "output_type": "stream",
          "name": "stdout",
          "text": [
            "{'__module__': '__main__', '__init__': <function FounderFocus.__init__ at 0x7adc1c1c7a60>, 'set_sector': <function FounderFocus.set_sector at 0x7adc1c1c7ce0>, 'set_funding': <function FounderFocus.set_funding at 0x7adc1c1c7880>, '__dict__': <attribute '__dict__' of 'FounderFocus' objects>, '__weakref__': <attribute '__weakref__' of 'FounderFocus' objects>, '__doc__': None}\n"
          ]
        }
      ]
    },
    {
      "cell_type": "markdown",
      "source": [
        "^ When you execute this above, what do you see?"
      ],
      "metadata": {
        "id": "0MMrzYLJxqSA"
      }
    },
    {
      "cell_type": "markdown",
      "source": [
        "### Exercise 4.2 — Create a CLI Instance and Use It\n",
        "\n",
        "Let's now explore how to instantiate our CLI (aka \"make it work\")\n",
        "\n",
        "We'll use a simple abbreviation for our CLI, which we'll call `\"ff\"` so that we can call it more easily throughout our subsequent cells of the notebook\n"
      ],
      "metadata": {
        "id": "sV2nA1kuw2LW"
      }
    },
    {
      "cell_type": "code",
      "source": [
        "ff = FounderFocus(<<REPLACE>>)  # Give your CLI a name\n",
        "\n",
        "ff.set_sector(<<REPLACE>>)\n",
        "ff.set_funding(<<REPLACE>>)\n",
        "\n",
        "print(\"🧑‍💻 CLI Name:\", ff.name)\n",
        "print(\"💼 Sector:\", ff.sector)\n",
        "print(\"💰 Funding:\", ff.funding)"
      ],
      "metadata": {
        "colab": {
          "base_uri": "https://localhost:8080/"
        },
        "id": "bp04CKT8w-tH",
        "outputId": "93452ccf-1986-4d49-984b-bd65c74042db"
      },
      "execution_count": null,
      "outputs": [
        {
          "output_type": "stream",
          "name": "stdout",
          "text": [
            "🧑‍💻 CLI Name: Startup Simulator\n",
            "💼 Sector: AI\n",
            "💰 Funding: 500000\n"
          ]
        }
      ]
    },
    {
      "cell_type": "markdown",
      "source": [
        "### Exercise 4.3 — Add Custom Behavior to the CLI\n",
        "\n",
        "Let’s create a method that evaluates whether a startup is acquisition-ready.\n"
      ],
      "metadata": {
        "id": "Aq9go6c2yD2U"
      }
    },
    {
      "cell_type": "code",
      "source": [
        "class FounderFocus:\n",
        "    def __init__(self, name):\n",
        "        self.name = name\n",
        "        self.sector = None\n",
        "        self.funding = 0\n",
        "\n",
        "    def set_sector(self, sector):\n",
        "        self.sector = sector\n",
        "\n",
        "    def set_funding(self, amount):\n",
        "        self.funding = amount\n",
        "\n",
        "    def is_acquisition_ready(self):\n",
        "        return <<REPLACE>>  # Combine funding threshold and sector check\n"
      ],
      "metadata": {
        "id": "CRBmejk9yFFy"
      },
      "execution_count": null,
      "outputs": []
    },
    {
      "cell_type": "markdown",
      "source": [
        "Let's try to run it:"
      ],
      "metadata": {
        "id": "58BiOdrZBte9"
      }
    },
    {
      "cell_type": "code",
      "source": [
        "ff = FounderFocus(\"AcquiCheck CLI\")\n",
        "ff.set_sector(\"AI\")\n",
        "ff.set_funding(600_000)\n",
        "\n",
        "if ff.is_acquisition_ready():\n",
        "    print(\"✅ Ready to be acquired!\")\n",
        "else:\n",
        "    print(\"❌ Needs more traction.\")"
      ],
      "metadata": {
        "colab": {
          "base_uri": "https://localhost:8080/"
        },
        "id": "lY7Ku3lWBjna",
        "outputId": "a1e52435-6a94-4db5-df1a-3889b7ca6528"
      },
      "execution_count": null,
      "outputs": [
        {
          "output_type": "stream",
          "name": "stdout",
          "text": [
            "✅ Ready to be acquired!\n"
          ]
        }
      ]
    },
    {
      "cell_type": "markdown",
      "source": [
        "^ When you execute this above, what do you see? What is different here vs. the initial implementation of your CLI?"
      ],
      "metadata": {
        "id": "I7dJJAjQyP9E"
      }
    },
    {
      "cell_type": "markdown",
      "source": [
        "### Exercise 4.4 — Use Your CLI Object to Make a Decision\n"
      ],
      "metadata": {
        "id": "nUwOAlpyyVCt"
      }
    },
    {
      "cell_type": "code",
      "source": [
        "class FounderFocus:\n",
        "    def __init__(self, name):\n",
        "        self.name = name\n",
        "        self.sector = None\n",
        "        self.funding = 0\n",
        "\n",
        "    def set_sector(self, sector):\n",
        "        self.sector = sector\n",
        "\n",
        "    def set_funding(self, amount):\n",
        "        self.funding = amount\n",
        "\n",
        "    def is_acquisition_ready(self):\n",
        "        return self.funding >= 500_000 and self.sector in [\"AI\", \"Fintech\", \"SaaS\"]\n",
        "\n",
        "    def summary(self):\n",
        "        print(f\"📊 {<<REPLACE>>} CLI Summary:\")\n",
        "        print(f\"- Sector: {<<REPLACE>>}\")\n",
        "        print(f\"- Funding: ${<<REPLACE>>}\")\n",
        "        print(f\"- Acquisition-Ready: {<<REPLACE>>}\")\n"
      ],
      "metadata": {
        "id": "FcTBNAmLyWHP"
      },
      "execution_count": null,
      "outputs": []
    },
    {
      "cell_type": "markdown",
      "source": [
        "Now run it:"
      ],
      "metadata": {
        "id": "7Kv3NeOpBqGA"
      }
    },
    {
      "cell_type": "code",
      "source": [
        "ff = FounderFocus(\"Deal Analyzer\")\n",
        "ff.set_sector(\"SaaS\")\n",
        "ff.set_funding(800_000)\n",
        "\n",
        "ff.summary()\n"
      ],
      "metadata": {
        "colab": {
          "base_uri": "https://localhost:8080/"
        },
        "id": "5VjJ0YOMBoHm",
        "outputId": "49449b81-195b-40b2-ab05-415a957aca71"
      },
      "execution_count": null,
      "outputs": [
        {
          "output_type": "stream",
          "name": "stdout",
          "text": [
            "📊 Deal Analyzer CLI Summary:\n",
            "- Sector: SaaS\n",
            "- Funding: $800000\n",
            "- Acquisition-Ready: True\n"
          ]
        }
      ]
    },
    {
      "cell_type": "markdown",
      "source": [
        "### Exercise 4.5 — Use a Summary Method for CLI Output\n",
        "\n",
        "Let's add a summary tool to our CLI to give it more functionality."
      ],
      "metadata": {
        "id": "FAgrEzaiydg0"
      }
    },
    {
      "cell_type": "code",
      "source": [
        "print(<<REPLACE>>)"
      ],
      "metadata": {
        "colab": {
          "base_uri": "https://localhost:8080/"
        },
        "id": "vzXeW-20yeyu",
        "outputId": "36685adb-7af6-47a6-b644-46ecdf7c5ee7"
      },
      "execution_count": null,
      "outputs": [
        {
          "output_type": "stream",
          "name": "stdout",
          "text": [
            "{'__module__': '__main__', '__init__': <function FounderFocus.__init__ at 0x7adc1c1c72e0>, 'set_sector': <function FounderFocus.set_sector at 0x7adc1c1c7100>, 'set_funding': <function FounderFocus.set_funding at 0x7adc1c1c6fc0>, 'is_acquisition_ready': <function FounderFocus.is_acquisition_ready at 0x7adc1c1c6f20>, 'summary': <function FounderFocus.summary at 0x7adc1c1c7060>, '__dict__': <attribute '__dict__' of 'FounderFocus' objects>, '__weakref__': <attribute '__weakref__' of 'FounderFocus' objects>, '__doc__': None}\n"
          ]
        }
      ]
    },
    {
      "cell_type": "markdown",
      "source": [
        "### Exercise 4.6 — Print a Full CLI Summary\n"
      ],
      "metadata": {
        "id": "E3_jkpS4yt2t"
      }
    },
    {
      "cell_type": "code",
      "source": [
        "# If your summary method works, this will print a full overview of the CLI object\n",
        "\n",
        "ff = FounderFocus(\"Deal Analyzer\")\n",
        "ff.set_sector(\"SaaS\")\n",
        "ff.set_funding(800_000)\n",
        "\n",
        "ff.summary()\n"
      ],
      "metadata": {
        "colab": {
          "base_uri": "https://localhost:8080/"
        },
        "id": "3mLilNtFyvwF",
        "outputId": "71204d0c-3249-44da-fe2c-db2442495fbc"
      },
      "execution_count": null,
      "outputs": [
        {
          "output_type": "stream",
          "name": "stdout",
          "text": [
            "📊 Deal Analyzer CLI Summary:\n",
            "- Sector: SaaS\n",
            "- Funding: $800000\n",
            "- Acquisition-Ready: True\n"
          ]
        }
      ]
    },
    {
      "cell_type": "markdown",
      "source": [
        "### ✅ Section 4 Wrap-Up: CLI Class Complete\n",
        "\n",
        "You’ve now built a reusable Python class to simulate startup logic — just like building a CLI or internal tool at a real startup.\n",
        "\n",
        "You now know how to:\n",
        "- Use `class`, `__init__`, and `self`\n",
        "- Set and retrieve attributes\n",
        "- Encapsulate logic in methods\n",
        "- Simulate CLI output and scoring logic\n",
        "\n",
        "Next up: Exporting your results — We’ll build file I/O features so your CLI can save `.txt` and `.csv` reports."
      ],
      "metadata": {
        "id": "NwC4LkGey1G-"
      }
    },
    {
      "cell_type": "markdown",
      "source": [
        "---"
      ],
      "metadata": {
        "id": "NSyfFhucy104"
      }
    },
    {
      "cell_type": "markdown",
      "source": [
        "## 🔹 Section 5: File I/O — Export Startup Reports\n",
        "\n",
        "What good is a CLI tool if it can’t **export your insights**?\n",
        "\n",
        "In this section, you’ll:\n",
        "\n",
        "- Write summaries to `.txt` and `.csv` files\n",
        "- Read and review saved reports\n",
        "- Safely handle file operations using `with open(...)`\n",
        "\n",
        "These skills are **essential** for real-world apps and are tested on the PCAP exam."
      ],
      "metadata": {
        "id": "hMKo1jOZy38G"
      }
    },
    {
      "cell_type": "markdown",
      "source": [
        "### Exercise 5.1 — Save Your CLI Summary to a `.txt` File\n",
        "Let’s extend your class with a method that writes your CLI summary to a file.\n"
      ],
      "metadata": {
        "id": "azweJQXOy5ck"
      }
    },
    {
      "cell_type": "code",
      "source": [
        "class FounderFocus:\n",
        "    def __init__(self, name):\n",
        "        self.name = name\n",
        "        self.sector = None\n",
        "        self.funding = 0\n",
        "\n",
        "    def set_sector(self, sector):\n",
        "        self.sector = sector\n",
        "\n",
        "    def set_funding(self, amount):\n",
        "        self.funding = amount\n",
        "\n",
        "    def is_acquisition_ready(self):\n",
        "        return self.funding >= 500_000 and self.sector in [\"AI\", \"Fintech\", \"SaaS\"]\n",
        "\n",
        "    def summary(self):\n",
        "        return (\n",
        "            f\"📊 {self.name} CLI Summary:\\n\"\n",
        "            f\"- Sector: {self.sector}\\n\"\n",
        "            f\"- Funding: ${self.funding}\\n\"\n",
        "            f\"- Acquisition-Ready: {self.is_acquisition_ready()}\\n\"\n",
        "        )\n",
        "\n",
        "    def export_summary_to_txt(self, filename):\n",
        "        with open(<<REPLACE>>, <<REPLACE>>) as file:\n",
        "            file.write(<<REPLACE>>)\n",
        "        print(f\"📁 Exported summary to {filename}\")\n"
      ],
      "metadata": {
        "id": "vzvO07wDy9E0"
      },
      "execution_count": null,
      "outputs": []
    },
    {
      "cell_type": "markdown",
      "source": [
        "### Exercise 5.2 — Run Your Export and Verify\n"
      ],
      "metadata": {
        "id": "0QmhZmLOzBWQ"
      }
    },
    {
      "cell_type": "code",
      "source": [
        "ff = FounderFocus(\"Founder Report\")\n",
        "ff.set_sector(\"AI\")\n",
        "ff.set_funding(900_000)\n",
        "\n",
        "ff.<<REPLACE>>(\"founder_summary.txt\")"
      ],
      "metadata": {
        "colab": {
          "base_uri": "https://localhost:8080/"
        },
        "id": "oaf1siMwzCxL",
        "outputId": "2584de75-b0e5-43d2-d474-6b3b67c23715"
      },
      "execution_count": null,
      "outputs": [
        {
          "output_type": "stream",
          "name": "stdout",
          "text": [
            "📁 Exported summary to founder_summary.txt\n"
          ]
        }
      ]
    },
    {
      "cell_type": "markdown",
      "source": [
        "### Exercise 5.3 — Read the Report File to Verify It Was Saved\n"
      ],
      "metadata": {
        "id": "AZAA3W4ZzNFH"
      }
    },
    {
      "cell_type": "code",
      "source": [
        "with open(<<REPLACE>>, \"r\") as file:\n",
        "    contents = file.read()\n",
        "\n",
        "print(\"📄 Saved Report:\\n\", contents)\n"
      ],
      "metadata": {
        "colab": {
          "base_uri": "https://localhost:8080/"
        },
        "id": "Tzv73fI-zOJV",
        "outputId": "e52dcc8a-0d70-4721-9bda-ce88c7ef3b99"
      },
      "execution_count": null,
      "outputs": [
        {
          "output_type": "stream",
          "name": "stdout",
          "text": [
            "📄 Saved Report:\n",
            " 📊 Founder Report CLI Summary:\n",
            "- Sector: AI\n",
            "- Funding: $900000\n",
            "- Acquisition-Ready: True\n",
            "\n"
          ]
        }
      ]
    },
    {
      "cell_type": "markdown",
      "source": [
        "### Exercise 5.4 — Export CLI Data to a CSV File\n",
        "Let’s write startup funding data to a `.csv` file so we can open it in Excel or Google Sheets with four items:\n",
        "- name\n",
        "- sector\n",
        "- funding\n",
        "- acquisition read status"
      ],
      "metadata": {
        "id": "UwnDT3ujzP3A"
      }
    },
    {
      "cell_type": "code",
      "source": [
        "import csv\n",
        "\n",
        "def export_to_csv(cli_obj, filename):\n",
        "    with open(filename, mode=\"w\", newline=\"\") as file:\n",
        "        # Use csv.writer(file) and pull attributes from cli_obj like cli_obj.name.\n",
        "        writer = <<REPLACE>>\n",
        "        writer.writerow([\"Name\", \"Sector\", \"Funding\", \"AcquisitionReady\"])\n",
        "        writer.writerow([\n",
        "            <<REPLACE>>,\n",
        "            <<REPLACE>>,\n",
        "            <<REPLACE>>,\n",
        "            <<REPLACE>>,\n",
        "        ])\n",
        "    print(f\"📊 Exported data to {filename}\")"
      ],
      "metadata": {
        "id": "nQiZDO18zSL1"
      },
      "execution_count": null,
      "outputs": []
    },
    {
      "cell_type": "markdown",
      "source": [
        "Then run it:"
      ],
      "metadata": {
        "id": "8vka6ADYC7AK"
      }
    },
    {
      "cell_type": "code",
      "source": [
        "export_to_csv(<<REPLACE>>, \"founder_data.csv\")"
      ],
      "metadata": {
        "colab": {
          "base_uri": "https://localhost:8080/"
        },
        "id": "JAsoQJEYC6us",
        "outputId": "49199d26-ff3c-433b-90ea-116fcc2cc576"
      },
      "execution_count": null,
      "outputs": [
        {
          "output_type": "stream",
          "name": "stdout",
          "text": [
            "📊 Exported data to founder_data.csv\n"
          ]
        }
      ]
    },
    {
      "cell_type": "markdown",
      "source": [
        "### Exercise 5.5 — Turn Your CLI Into a Real Python Module\n",
        "\n",
        "You’ve now built a full CLI class in this notebook. But what if you want to **reuse it elsewhere**?\n",
        "\n",
        "Let’s save your `FounderFocus` class to a `.py` file so you can:\n",
        "\n",
        "- Import it like a real Python module\n",
        "- Test its methods from another notebook cell\n",
        "- Build confidence working with modules and files (a key PCAP skill!)\n",
        "\n",
        "Let’s walk through the steps below.\n"
      ],
      "metadata": {
        "id": "81PkLabM0R2Q"
      }
    },
    {
      "cell_type": "markdown",
      "source": [
        "### 🧠 Create the CLI as a Python File\n",
        "\n",
        "Instead of the class living in a cell, let's export our FounderFocus CLI code into a `.py` File\n"
      ],
      "metadata": {
        "id": "UCbc3W1B0ZFf"
      }
    },
    {
      "cell_type": "code",
      "source": [
        "cli_code = \"\"\"\n",
        "<<REPLACE>>\n",
        "\"\"\"\n",
        "\n",
        "with open(\"founder_focus.py\", \"w\") as f:\n",
        "    f.write(cli_code)\n",
        "\n",
        "print(\"✅ CLI saved to founder_focus.py!\")\n"
      ],
      "metadata": {
        "colab": {
          "base_uri": "https://localhost:8080/"
        },
        "id": "PoFfO2Fh0j95",
        "outputId": "2d15be3b-d3c2-41e6-f091-b9c70f1ac297"
      },
      "execution_count": null,
      "outputs": [
        {
          "output_type": "stream",
          "name": "stdout",
          "text": [
            "✅ CLI saved to founder_focus.py!\n"
          ]
        }
      ]
    },
    {
      "cell_type": "markdown",
      "source": [
        "### 🧠 Import Your Class Like a Module\n",
        "\n",
        "Now that you've saved your class, try importing it just like any other Python module:\n"
      ],
      "metadata": {
        "id": "jcE-sbzv0pb_"
      }
    },
    {
      "cell_type": "markdown",
      "source": [
        "This ensures Colab can see newly created .py files:"
      ],
      "metadata": {
        "id": "SdQDDbMr1LCm"
      }
    },
    {
      "cell_type": "code",
      "source": [
        "import importlib\n",
        "import founder_focus\n",
        "\n",
        "# Use the name of your CLI\n",
        "importlib.reload(<<REPLACE>>)"
      ],
      "metadata": {
        "id": "2Z8JlbQk1BLR",
        "colab": {
          "base_uri": "https://localhost:8080/"
        },
        "outputId": "5cff02b0-4cbf-4f99-b600-c4b75c81f489"
      },
      "execution_count": null,
      "outputs": [
        {
          "output_type": "execute_result",
          "data": {
            "text/plain": [
              "<module 'founder_focus' from '/content/founder_focus.py'>"
            ]
          },
          "metadata": {},
          "execution_count": 46
        }
      ]
    },
    {
      "cell_type": "markdown",
      "source": [
        "### 🧪 Instantiate and Test Your Module"
      ],
      "metadata": {
        "id": "xwzalFJZE2nK"
      }
    },
    {
      "cell_type": "code",
      "source": [
        "from founder_focus import FounderFocus\n",
        "\n",
        "ff = FounderFocus(\"Import Test\")\n",
        "# Use the set_sector method\n",
        "<<REPLACE>>(\"AI\")\n",
        "# Use the set_funding method\n",
        "<<REPLACE>>(950_000)\n",
        "\n",
        "# Use the summary method\n",
        "print(<<REPLACE>>())"
      ],
      "metadata": {
        "colab": {
          "base_uri": "https://localhost:8080/"
        },
        "id": "F82cIynJ0rAU",
        "outputId": "9f613356-affc-4ddb-d32c-2042528cff0b"
      },
      "execution_count": null,
      "outputs": [
        {
          "output_type": "stream",
          "name": "stdout",
          "text": [
            "📊 Import Test CLI Summary:\n",
            "- Sector: AI\n",
            "- Funding: $950000\n",
            "- Acquisition-Ready: True\n",
            "\n"
          ]
        }
      ]
    },
    {
      "cell_type": "markdown",
      "source": [
        "### 📄 Export CLI Summary to a Text File"
      ],
      "metadata": {
        "id": "TFpMOmF-E6pg"
      }
    },
    {
      "cell_type": "code",
      "source": [
        "from founder_focus import FounderFocus\n",
        "\n",
        "founder_focus"
      ],
      "metadata": {
        "colab": {
          "base_uri": "https://localhost:8080/"
        },
        "id": "0jFhzjcl1wm3",
        "outputId": "78fbde28-5e31-4e0a-e721-480417d64a3d"
      },
      "execution_count": null,
      "outputs": [
        {
          "output_type": "execute_result",
          "data": {
            "text/plain": [
              "<module 'founder_focus' from '/content/founder_focus.py'>"
            ]
          },
          "metadata": {},
          "execution_count": 48
        }
      ]
    },
    {
      "cell_type": "markdown",
      "source": [
        "^ Did you see something that says `/content/founder_focus.py'`? If so, congrats, your CLI is now working exactly like a real, Pythonic software module 🎉"
      ],
      "metadata": {
        "id": "tM-E9UG52eZi"
      }
    },
    {
      "cell_type": "markdown",
      "source": [
        "### 📄 Export and Read a Summary File\n",
        "\n",
        "Let’s use the `.export_summary_to_txt()` method to save your CLI output to a `.txt` file, then read the file to confirm it worked.\n"
      ],
      "metadata": {
        "id": "ipmFlS3t1cA-"
      }
    },
    {
      "cell_type": "code",
      "source": [
        "# Export the CLI summary\n",
        "ff.export_summary_to_txt(\"ff_report.txt\")\n",
        "\n",
        "# Read the file to verify\n",
        "with open(\"ff_report.txt\", \"r\") as file:\n",
        "    print(\"📄 File Contents:\\n\", file.read())\n"
      ],
      "metadata": {
        "colab": {
          "base_uri": "https://localhost:8080/"
        },
        "id": "JmJDGfLa1dta",
        "outputId": "a8beee1e-d8af-4e7d-a28c-0e810244b805"
      },
      "execution_count": null,
      "outputs": [
        {
          "output_type": "stream",
          "name": "stdout",
          "text": [
            "📁 Exported summary to ff_report.txt\n",
            "📄 File Contents:\n",
            " 📊 Founder Report CLI Summary:\n",
            "- Sector: AI\n",
            "- Funding: $900000\n",
            "- Acquisition-Ready: True\n",
            "\n"
          ]
        }
      ]
    },
    {
      "cell_type": "markdown",
      "source": [
        "### 📊 Export CLI Data to a CSV File\n",
        "\n",
        "You can also export your CLI object’s data to a `.csv` file — perfect for spreadsheets or dashboards  with four items:\n",
        "- name\n",
        "- sector\n",
        "- funding\n",
        "- acquisition read status\n"
      ],
      "metadata": {
        "id": "XvK54-6I1iSO"
      }
    },
    {
      "cell_type": "code",
      "source": [
        "import csv\n",
        "\n",
        "def export_to_csv(cli_obj, filename):\n",
        "    with open(filename, mode=\"w\", newline=\"\") as file:\n",
        "        writer = csv.writer(file)\n",
        "        writer.writerow([\"Name\", \"Sector\", \"Funding\", \"AcquisitionReady\"])\n",
        "        writer.writerow([\n",
        "            <<REPLACE>>,\n",
        "            <<REPLACE>>,\n",
        "            <<REPLACE>>,\n",
        "            <<REPLACE>>\n",
        "        ])\n",
        "    print(f\"📊 Exported data to {filename}\")\n",
        "\n",
        "export_to_csv(ff, \"cli_data.csv\")"
      ],
      "metadata": {
        "colab": {
          "base_uri": "https://localhost:8080/"
        },
        "id": "rYQfDuqP1jgn",
        "outputId": "1fc41d31-4764-4966-8c8f-213ff790d95a"
      },
      "execution_count": null,
      "outputs": [
        {
          "output_type": "stream",
          "name": "stdout",
          "text": [
            "📊 Exported data to cli_data.csv\n"
          ]
        }
      ]
    },
    {
      "cell_type": "markdown",
      "source": [
        "### ✅ Congrats, You’ve Built a Reusable Python Module\n",
        "\n",
        "In this final section, you’ve learned how to:\n",
        "- Export a CLI class to a `.py` file\n",
        "- Import and use it like a real Python module\n",
        "- Export CLI data to `.txt` and `.csv` files\n",
        "\n",
        "This reinforces the **Modules & Packages** and **File I/O** sections of the PCAP exam — and gives you a real-world tool to build on.\n",
        "\n",
        "🎉 Great job — your CLI is now portable, testable, and professional!\n"
      ],
      "metadata": {
        "id": "E1N0tpKJ1nu-"
      }
    },
    {
      "cell_type": "markdown",
      "source": [
        "## ✅ Section 5 Wrap-Up: CLI Toolkit Complete\n",
        "\n",
        "Congrats — your FounderFocus CLI now:\n",
        "- Simulates market analysis\n",
        "- Evaluates acquisition readiness\n",
        "- Exports reports to `.txt` and `.csv` files\n",
        "\n",
        "🎉 You’ve completed a full PCAP-aligned Python CLI project using real startup data, evaluated your PCAP readiness, and also build real-world Python skills that you can take with you to your future work as a software engineer.\n",
        "\n",
        "Next Steps:\n",
        "- Review your CLI code\n",
        "- Package it into a `.py` file or a command-line tool\n",
        "- Keep building: try modules, decorators, or test suites!\n",
        "\n",
        "Well done — you're founder-ready and take your Python skills to the vast world of software engineering and beyond! 🔥\n"
      ],
      "metadata": {
        "id": "0OY2ApT7zbWD"
      }
    }
  ]
}